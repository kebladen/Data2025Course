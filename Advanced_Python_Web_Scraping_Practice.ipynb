{
  "nbformat": 4,
  "nbformat_minor": 0,
  "metadata": {
    "colab": {
      "provenance": [],
      "authorship_tag": "ABX9TyNRE9sTU9RJ6Dhdep9fJQMP",
      "include_colab_link": true
    },
    "kernelspec": {
      "name": "python3",
      "display_name": "Python 3"
    },
    "language_info": {
      "name": "python"
    }
  },
  "cells": [
    {
      "cell_type": "markdown",
      "metadata": {
        "id": "view-in-github",
        "colab_type": "text"
      },
      "source": [
        "<a href=\"https://colab.research.google.com/github/kebladen/Data2025Course/blob/main/Advanced_Python_Web_Scraping_Practice.ipynb\" target=\"_parent\"><img src=\"https://colab.research.google.com/assets/colab-badge.svg\" alt=\"Open In Colab\"/></a>"
      ]
    },
    {
      "cell_type": "code",
      "execution_count": 3,
      "metadata": {
        "id": "HmE4tMzREbnG"
      },
      "outputs": [],
      "source": [
        "import pandas as pd\n",
        "import requests\n",
        "from bs4 import BeautifulSoup"
      ]
    },
    {
      "cell_type": "code",
      "source": [
        "response = requests.get('https://btech-data-analytics.github.io/bridgerland-technical-college/employees_3.html').text"
      ],
      "metadata": {
        "id": "ua8h-sME7E1z"
      },
      "execution_count": 8,
      "outputs": []
    },
    {
      "cell_type": "code",
      "source": [
        "soup = BeautifulSoup(response, 'html.parser')"
      ],
      "metadata": {
        "id": "I5T4EEHM8Ea7"
      },
      "execution_count": 10,
      "outputs": []
    },
    {
      "cell_type": "code",
      "source": [
        "id = []\n",
        "name = []\n",
        "age = []\n",
        "\n",
        "for employee in soup.find('table').find_all('tr', class_='employee'):\n",
        "    id.append(employee.find_all('td')[0].text)\n",
        "    name.append(employee.find_all('td')[1].text)\n",
        "    age.append(employee.find_all('td')[2].text)"
      ],
      "metadata": {
        "id": "cnqWVaDE8Txm"
      },
      "execution_count": 32,
      "outputs": []
    },
    {
      "cell_type": "code",
      "source": [
        "df = pd.DataFrame({\n",
        "    'id': id,\n",
        "    'name': name,\n",
        "    'age': age\n",
        "})\n",
        "df.info()"
      ],
      "metadata": {
        "id": "pU6kacik8-jb",
        "outputId": "f979445d-0860-415f-d0aa-5c2c1d4b8b9b",
        "colab": {
          "base_uri": "https://localhost:8080/"
        }
      },
      "execution_count": 44,
      "outputs": [
        {
          "output_type": "stream",
          "name": "stdout",
          "text": [
            "<class 'pandas.core.frame.DataFrame'>\n",
            "RangeIndex: 8 entries, 0 to 7\n",
            "Data columns (total 3 columns):\n",
            " #   Column  Non-Null Count  Dtype \n",
            "---  ------  --------------  ----- \n",
            " 0   id      8 non-null      object\n",
            " 1   name    8 non-null      object\n",
            " 2   age     8 non-null      object\n",
            "dtypes: object(3)\n",
            "memory usage: 324.0+ bytes\n"
          ]
        }
      ]
    },
    {
      "cell_type": "code",
      "source": [
        "df['age'] = pd.to_numeric(df['age'])"
      ],
      "metadata": {
        "id": "D9dDPpSVBfL8"
      },
      "execution_count": 50,
      "outputs": []
    },
    {
      "cell_type": "code",
      "source": [
        "df['id'] = pd.to_numeric(df['id'])"
      ],
      "metadata": {
        "id": "-9GbarMACMJS"
      },
      "execution_count": 51,
      "outputs": []
    },
    {
      "cell_type": "code",
      "source": [
        "df.info()"
      ],
      "metadata": {
        "id": "oJ6qYY6jBk-A",
        "outputId": "6cead99e-3b79-4071-ed07-925337b1b1a1",
        "colab": {
          "base_uri": "https://localhost:8080/"
        }
      },
      "execution_count": 53,
      "outputs": [
        {
          "output_type": "stream",
          "name": "stdout",
          "text": [
            "<class 'pandas.core.frame.DataFrame'>\n",
            "RangeIndex: 8 entries, 0 to 7\n",
            "Data columns (total 3 columns):\n",
            " #   Column  Non-Null Count  Dtype \n",
            "---  ------  --------------  ----- \n",
            " 0   id      8 non-null      int64 \n",
            " 1   name    8 non-null      object\n",
            " 2   age     8 non-null      int64 \n",
            "dtypes: int64(2), object(1)\n",
            "memory usage: 324.0+ bytes\n"
          ]
        }
      ]
    },
    {
      "cell_type": "code",
      "source": [
        "average_age = df['age'].mean()\n",
        "print(average_age)"
      ],
      "metadata": {
        "id": "BflSdIP-Cv0y",
        "outputId": "88f9235c-ca1a-4fe2-cc54-c455117eb91c",
        "colab": {
          "base_uri": "https://localhost:8080/"
        }
      },
      "execution_count": 56,
      "outputs": [
        {
          "output_type": "stream",
          "name": "stdout",
          "text": [
            "29.875\n"
          ]
        }
      ]
    },
    {
      "cell_type": "code",
      "source": [
        "std_age = round(df['age'].std(), 2)\n",
        "print(std_age)"
      ],
      "metadata": {
        "id": "hVYlB5_MDCtA",
        "outputId": "4c735d3d-c618-4f58-96e4-b1b5725f5484",
        "colab": {
          "base_uri": "https://localhost:8080/"
        }
      },
      "execution_count": 59,
      "outputs": [
        {
          "output_type": "stream",
          "name": "stdout",
          "text": [
            "3.56\n"
          ]
        }
      ]
    }
  ]
}